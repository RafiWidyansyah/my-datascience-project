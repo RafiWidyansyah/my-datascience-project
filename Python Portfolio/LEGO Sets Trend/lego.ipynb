{
 "cells": [
  {
   "cell_type": "markdown",
   "id": "f082e12d-7923-4062-a783-7b891cf3f44d",
   "metadata": {},
   "source": [
    "# Import Library and Data"
   ]
  },
  {
   "cell_type": "code",
   "execution_count": 1,
   "id": "a61bb484-3b64-459f-ae8f-2517a8ceb7f3",
   "metadata": {
    "execution": {
     "iopub.execute_input": "2025-10-06T12:38:33.727854Z",
     "iopub.status.busy": "2025-10-06T12:38:33.726939Z",
     "iopub.status.idle": "2025-10-06T12:38:37.774838Z",
     "shell.execute_reply": "2025-10-06T12:38:37.774538Z",
     "shell.execute_reply.started": "2025-10-06T12:38:33.727804Z"
    }
   },
   "outputs": [],
   "source": [
    "import numpy as np\n",
    "import pandas as pd\n",
    "import matplotlib.pyplot as plt\n",
    "import seaborn as sns"
   ]
  },
  {
   "cell_type": "code",
   "execution_count": 2,
   "id": "434d90db-17d6-4818-a243-333046a2468d",
   "metadata": {
    "execution": {
     "iopub.execute_input": "2025-10-06T12:38:37.775599Z",
     "iopub.status.busy": "2025-10-06T12:38:37.775469Z",
     "iopub.status.idle": "2025-10-06T12:38:37.824100Z",
     "shell.execute_reply": "2025-10-06T12:38:37.823863Z",
     "shell.execute_reply.started": "2025-10-06T12:38:37.775589Z"
    }
   },
   "outputs": [
    {
     "data": {
      "text/html": [
       "<div>\n",
       "<style scoped>\n",
       "    .dataframe tbody tr th:only-of-type {\n",
       "        vertical-align: middle;\n",
       "    }\n",
       "\n",
       "    .dataframe tbody tr th {\n",
       "        vertical-align: top;\n",
       "    }\n",
       "\n",
       "    .dataframe thead th {\n",
       "        text-align: right;\n",
       "    }\n",
       "</style>\n",
       "<table border=\"1\" class=\"dataframe\">\n",
       "  <thead>\n",
       "    <tr style=\"text-align: right;\">\n",
       "      <th></th>\n",
       "      <th>set_id</th>\n",
       "      <th>name</th>\n",
       "      <th>year</th>\n",
       "      <th>theme</th>\n",
       "      <th>subtheme</th>\n",
       "      <th>themeGroup</th>\n",
       "      <th>category</th>\n",
       "      <th>pieces</th>\n",
       "      <th>minifigs</th>\n",
       "      <th>agerange_min</th>\n",
       "      <th>US_retailPrice</th>\n",
       "      <th>bricksetURL</th>\n",
       "      <th>thumbnailURL</th>\n",
       "      <th>imageURL</th>\n",
       "    </tr>\n",
       "  </thead>\n",
       "  <tbody>\n",
       "    <tr>\n",
       "      <th>0</th>\n",
       "      <td>1-8</td>\n",
       "      <td>Small house set</td>\n",
       "      <td>1970</td>\n",
       "      <td>Minitalia</td>\n",
       "      <td>NaN</td>\n",
       "      <td>Vintage</td>\n",
       "      <td>Normal</td>\n",
       "      <td>67.0</td>\n",
       "      <td>NaN</td>\n",
       "      <td>NaN</td>\n",
       "      <td>NaN</td>\n",
       "      <td>https://brickset.com/sets/1-8</td>\n",
       "      <td>https://images.brickset.com/sets/small/1-8.jpg</td>\n",
       "      <td>https://images.brickset.com/sets/images/1-8.jpg</td>\n",
       "    </tr>\n",
       "    <tr>\n",
       "      <th>1</th>\n",
       "      <td>2-8</td>\n",
       "      <td>Medium house set</td>\n",
       "      <td>1970</td>\n",
       "      <td>Minitalia</td>\n",
       "      <td>NaN</td>\n",
       "      <td>Vintage</td>\n",
       "      <td>Normal</td>\n",
       "      <td>109.0</td>\n",
       "      <td>NaN</td>\n",
       "      <td>NaN</td>\n",
       "      <td>NaN</td>\n",
       "      <td>https://brickset.com/sets/2-8</td>\n",
       "      <td>https://images.brickset.com/sets/small/2-8.jpg</td>\n",
       "      <td>https://images.brickset.com/sets/images/2-8.jpg</td>\n",
       "    </tr>\n",
       "    <tr>\n",
       "      <th>2</th>\n",
       "      <td>3-6</td>\n",
       "      <td>Medium house set</td>\n",
       "      <td>1970</td>\n",
       "      <td>Minitalia</td>\n",
       "      <td>NaN</td>\n",
       "      <td>Vintage</td>\n",
       "      <td>Normal</td>\n",
       "      <td>158.0</td>\n",
       "      <td>NaN</td>\n",
       "      <td>NaN</td>\n",
       "      <td>NaN</td>\n",
       "      <td>https://brickset.com/sets/3-6</td>\n",
       "      <td>https://images.brickset.com/sets/small/3-6.jpg</td>\n",
       "      <td>https://images.brickset.com/sets/images/3-6.jpg</td>\n",
       "    </tr>\n",
       "    <tr>\n",
       "      <th>3</th>\n",
       "      <td>4-4</td>\n",
       "      <td>Large house set</td>\n",
       "      <td>1970</td>\n",
       "      <td>Minitalia</td>\n",
       "      <td>NaN</td>\n",
       "      <td>Vintage</td>\n",
       "      <td>Normal</td>\n",
       "      <td>233.0</td>\n",
       "      <td>NaN</td>\n",
       "      <td>NaN</td>\n",
       "      <td>NaN</td>\n",
       "      <td>https://brickset.com/sets/4-4</td>\n",
       "      <td>https://images.brickset.com/sets/small/4-4.jpg</td>\n",
       "      <td>https://images.brickset.com/sets/images/4-4.jpg</td>\n",
       "    </tr>\n",
       "    <tr>\n",
       "      <th>4</th>\n",
       "      <td>4-6</td>\n",
       "      <td>Mini House and Vehicles</td>\n",
       "      <td>1970</td>\n",
       "      <td>Samsonite</td>\n",
       "      <td>Model Maker</td>\n",
       "      <td>Vintage</td>\n",
       "      <td>Normal</td>\n",
       "      <td>NaN</td>\n",
       "      <td>NaN</td>\n",
       "      <td>NaN</td>\n",
       "      <td>NaN</td>\n",
       "      <td>https://brickset.com/sets/4-6</td>\n",
       "      <td>NaN</td>\n",
       "      <td>NaN</td>\n",
       "    </tr>\n",
       "  </tbody>\n",
       "</table>\n",
       "</div>"
      ],
      "text/plain": [
       "  set_id                     name  year      theme     subtheme themeGroup  \\\n",
       "0    1-8          Small house set  1970  Minitalia          NaN    Vintage   \n",
       "1    2-8         Medium house set  1970  Minitalia          NaN    Vintage   \n",
       "2    3-6         Medium house set  1970  Minitalia          NaN    Vintage   \n",
       "3    4-4          Large house set  1970  Minitalia          NaN    Vintage   \n",
       "4    4-6  Mini House and Vehicles  1970  Samsonite  Model Maker    Vintage   \n",
       "\n",
       "  category  pieces  minifigs  agerange_min  US_retailPrice  \\\n",
       "0   Normal    67.0       NaN           NaN             NaN   \n",
       "1   Normal   109.0       NaN           NaN             NaN   \n",
       "2   Normal   158.0       NaN           NaN             NaN   \n",
       "3   Normal   233.0       NaN           NaN             NaN   \n",
       "4   Normal     NaN       NaN           NaN             NaN   \n",
       "\n",
       "                     bricksetURL  \\\n",
       "0  https://brickset.com/sets/1-8   \n",
       "1  https://brickset.com/sets/2-8   \n",
       "2  https://brickset.com/sets/3-6   \n",
       "3  https://brickset.com/sets/4-4   \n",
       "4  https://brickset.com/sets/4-6   \n",
       "\n",
       "                                     thumbnailURL  \\\n",
       "0  https://images.brickset.com/sets/small/1-8.jpg   \n",
       "1  https://images.brickset.com/sets/small/2-8.jpg   \n",
       "2  https://images.brickset.com/sets/small/3-6.jpg   \n",
       "3  https://images.brickset.com/sets/small/4-4.jpg   \n",
       "4                                             NaN   \n",
       "\n",
       "                                          imageURL  \n",
       "0  https://images.brickset.com/sets/images/1-8.jpg  \n",
       "1  https://images.brickset.com/sets/images/2-8.jpg  \n",
       "2  https://images.brickset.com/sets/images/3-6.jpg  \n",
       "3  https://images.brickset.com/sets/images/4-4.jpg  \n",
       "4                                              NaN  "
      ]
     },
     "execution_count": 2,
     "metadata": {},
     "output_type": "execute_result"
    }
   ],
   "source": [
    "lego = pd.read_csv('lego_sets.csv')\n",
    "lego.head()"
   ]
  },
  {
   "cell_type": "markdown",
   "id": "65aee6cf-7477-4dd6-9617-d65d49761434",
   "metadata": {},
   "source": [
    "# Data Wrangling"
   ]
  },
  {
   "cell_type": "code",
   "execution_count": 3,
   "id": "65a26d07-c4ac-46f4-987a-3015693029d3",
   "metadata": {
    "execution": {
     "iopub.execute_input": "2025-10-06T12:38:37.824514Z",
     "iopub.status.busy": "2025-10-06T12:38:37.824440Z",
     "iopub.status.idle": "2025-10-06T12:38:37.831870Z",
     "shell.execute_reply": "2025-10-06T12:38:37.831461Z",
     "shell.execute_reply.started": "2025-10-06T12:38:37.824506Z"
    }
   },
   "outputs": [
    {
     "name": "stdout",
     "output_type": "stream",
     "text": [
      "<class 'pandas.core.frame.DataFrame'>\n",
      "RangeIndex: 18457 entries, 0 to 18456\n",
      "Data columns (total 14 columns):\n",
      " #   Column          Non-Null Count  Dtype  \n",
      "---  ------          --------------  -----  \n",
      " 0   set_id          18457 non-null  object \n",
      " 1   name            18457 non-null  object \n",
      " 2   year            18457 non-null  int64  \n",
      " 3   theme           18457 non-null  object \n",
      " 4   subtheme        14901 non-null  object \n",
      " 5   themeGroup      18455 non-null  object \n",
      " 6   category        18457 non-null  object \n",
      " 7   pieces          14533 non-null  float64\n",
      " 8   minifigs        8399 non-null   float64\n",
      " 9   agerange_min    6787 non-null   float64\n",
      " 10  US_retailPrice  6982 non-null   float64\n",
      " 11  bricksetURL     18457 non-null  object \n",
      " 12  thumbnailURL    17451 non-null  object \n",
      " 13  imageURL        17451 non-null  object \n",
      "dtypes: float64(4), int64(1), object(9)\n",
      "memory usage: 2.0+ MB\n"
     ]
    }
   ],
   "source": [
    "# Check data type of each columns\n",
    "lego.info()"
   ]
  },
  {
   "cell_type": "code",
   "execution_count": 4,
   "id": "bc66f368-4cd9-48a0-b335-deaa78851870",
   "metadata": {
    "execution": {
     "iopub.execute_input": "2025-10-06T12:38:37.833177Z",
     "iopub.status.busy": "2025-10-06T12:38:37.833072Z",
     "iopub.status.idle": "2025-10-06T12:38:37.862794Z",
     "shell.execute_reply": "2025-10-06T12:38:37.862500Z",
     "shell.execute_reply.started": "2025-10-06T12:38:37.833170Z"
    }
   },
   "outputs": [
    {
     "data": {
      "text/html": [
       "<div>\n",
       "<style scoped>\n",
       "    .dataframe tbody tr th:only-of-type {\n",
       "        vertical-align: middle;\n",
       "    }\n",
       "\n",
       "    .dataframe tbody tr th {\n",
       "        vertical-align: top;\n",
       "    }\n",
       "\n",
       "    .dataframe thead th {\n",
       "        text-align: right;\n",
       "    }\n",
       "</style>\n",
       "<table border=\"1\" class=\"dataframe\">\n",
       "  <thead>\n",
       "    <tr style=\"text-align: right;\">\n",
       "      <th></th>\n",
       "      <th>set_id</th>\n",
       "      <th>name</th>\n",
       "      <th>year</th>\n",
       "      <th>theme</th>\n",
       "      <th>subtheme</th>\n",
       "      <th>themeGroup</th>\n",
       "      <th>category</th>\n",
       "      <th>pieces</th>\n",
       "      <th>minifigs</th>\n",
       "      <th>agerange_min</th>\n",
       "      <th>US_retailPrice</th>\n",
       "      <th>bricksetURL</th>\n",
       "      <th>thumbnailURL</th>\n",
       "      <th>imageURL</th>\n",
       "    </tr>\n",
       "  </thead>\n",
       "  <tbody>\n",
       "    <tr>\n",
       "      <th>count</th>\n",
       "      <td>18457</td>\n",
       "      <td>18457</td>\n",
       "      <td>18457.000000</td>\n",
       "      <td>18457</td>\n",
       "      <td>14901</td>\n",
       "      <td>18455</td>\n",
       "      <td>18457</td>\n",
       "      <td>14533.000000</td>\n",
       "      <td>8399.000000</td>\n",
       "      <td>6787.000000</td>\n",
       "      <td>6982.000000</td>\n",
       "      <td>18457</td>\n",
       "      <td>17451</td>\n",
       "      <td>17451</td>\n",
       "    </tr>\n",
       "    <tr>\n",
       "      <th>unique</th>\n",
       "      <td>18457</td>\n",
       "      <td>15374</td>\n",
       "      <td>NaN</td>\n",
       "      <td>154</td>\n",
       "      <td>895</td>\n",
       "      <td>16</td>\n",
       "      <td>7</td>\n",
       "      <td>NaN</td>\n",
       "      <td>NaN</td>\n",
       "      <td>NaN</td>\n",
       "      <td>NaN</td>\n",
       "      <td>18457</td>\n",
       "      <td>17422</td>\n",
       "      <td>17422</td>\n",
       "    </tr>\n",
       "    <tr>\n",
       "      <th>top</th>\n",
       "      <td>1-8</td>\n",
       "      <td>Bonus/Value Pack</td>\n",
       "      <td>NaN</td>\n",
       "      <td>Gear</td>\n",
       "      <td>Magazine Gift</td>\n",
       "      <td>Miscellaneous</td>\n",
       "      <td>Normal</td>\n",
       "      <td>NaN</td>\n",
       "      <td>NaN</td>\n",
       "      <td>NaN</td>\n",
       "      <td>NaN</td>\n",
       "      <td>https://brickset.com/sets/1-8</td>\n",
       "      <td>https://images.brickset.com/sets/small/30324-1...</td>\n",
       "      <td>https://images.brickset.com/sets/images/30324-...</td>\n",
       "    </tr>\n",
       "    <tr>\n",
       "      <th>freq</th>\n",
       "      <td>1</td>\n",
       "      <td>165</td>\n",
       "      <td>NaN</td>\n",
       "      <td>2832</td>\n",
       "      <td>453</td>\n",
       "      <td>5891</td>\n",
       "      <td>12757</td>\n",
       "      <td>NaN</td>\n",
       "      <td>NaN</td>\n",
       "      <td>NaN</td>\n",
       "      <td>NaN</td>\n",
       "      <td>1</td>\n",
       "      <td>5</td>\n",
       "      <td>5</td>\n",
       "    </tr>\n",
       "    <tr>\n",
       "      <th>mean</th>\n",
       "      <td>NaN</td>\n",
       "      <td>NaN</td>\n",
       "      <td>2007.960611</td>\n",
       "      <td>NaN</td>\n",
       "      <td>NaN</td>\n",
       "      <td>NaN</td>\n",
       "      <td>NaN</td>\n",
       "      <td>226.473749</td>\n",
       "      <td>2.663650</td>\n",
       "      <td>6.637542</td>\n",
       "      <td>37.534817</td>\n",
       "      <td>NaN</td>\n",
       "      <td>NaN</td>\n",
       "      <td>NaN</td>\n",
       "    </tr>\n",
       "    <tr>\n",
       "      <th>std</th>\n",
       "      <td>NaN</td>\n",
       "      <td>NaN</td>\n",
       "      <td>11.948666</td>\n",
       "      <td>NaN</td>\n",
       "      <td>NaN</td>\n",
       "      <td>NaN</td>\n",
       "      <td>NaN</td>\n",
       "      <td>469.988785</td>\n",
       "      <td>2.897857</td>\n",
       "      <td>2.780091</td>\n",
       "      <td>54.382712</td>\n",
       "      <td>NaN</td>\n",
       "      <td>NaN</td>\n",
       "      <td>NaN</td>\n",
       "    </tr>\n",
       "    <tr>\n",
       "      <th>min</th>\n",
       "      <td>NaN</td>\n",
       "      <td>NaN</td>\n",
       "      <td>1970.000000</td>\n",
       "      <td>NaN</td>\n",
       "      <td>NaN</td>\n",
       "      <td>NaN</td>\n",
       "      <td>NaN</td>\n",
       "      <td>0.000000</td>\n",
       "      <td>1.000000</td>\n",
       "      <td>1.000000</td>\n",
       "      <td>1.490000</td>\n",
       "      <td>NaN</td>\n",
       "      <td>NaN</td>\n",
       "      <td>NaN</td>\n",
       "    </tr>\n",
       "    <tr>\n",
       "      <th>25%</th>\n",
       "      <td>NaN</td>\n",
       "      <td>NaN</td>\n",
       "      <td>2001.000000</td>\n",
       "      <td>NaN</td>\n",
       "      <td>NaN</td>\n",
       "      <td>NaN</td>\n",
       "      <td>NaN</td>\n",
       "      <td>23.000000</td>\n",
       "      <td>1.000000</td>\n",
       "      <td>5.000000</td>\n",
       "      <td>9.990000</td>\n",
       "      <td>NaN</td>\n",
       "      <td>NaN</td>\n",
       "      <td>NaN</td>\n",
       "    </tr>\n",
       "    <tr>\n",
       "      <th>50%</th>\n",
       "      <td>NaN</td>\n",
       "      <td>NaN</td>\n",
       "      <td>2011.000000</td>\n",
       "      <td>NaN</td>\n",
       "      <td>NaN</td>\n",
       "      <td>NaN</td>\n",
       "      <td>NaN</td>\n",
       "      <td>70.000000</td>\n",
       "      <td>2.000000</td>\n",
       "      <td>6.000000</td>\n",
       "      <td>19.990000</td>\n",
       "      <td>NaN</td>\n",
       "      <td>NaN</td>\n",
       "      <td>NaN</td>\n",
       "    </tr>\n",
       "    <tr>\n",
       "      <th>75%</th>\n",
       "      <td>NaN</td>\n",
       "      <td>NaN</td>\n",
       "      <td>2017.000000</td>\n",
       "      <td>NaN</td>\n",
       "      <td>NaN</td>\n",
       "      <td>NaN</td>\n",
       "      <td>NaN</td>\n",
       "      <td>242.000000</td>\n",
       "      <td>3.000000</td>\n",
       "      <td>8.000000</td>\n",
       "      <td>39.990000</td>\n",
       "      <td>NaN</td>\n",
       "      <td>NaN</td>\n",
       "      <td>NaN</td>\n",
       "    </tr>\n",
       "    <tr>\n",
       "      <th>max</th>\n",
       "      <td>NaN</td>\n",
       "      <td>NaN</td>\n",
       "      <td>2022.000000</td>\n",
       "      <td>NaN</td>\n",
       "      <td>NaN</td>\n",
       "      <td>NaN</td>\n",
       "      <td>NaN</td>\n",
       "      <td>11695.000000</td>\n",
       "      <td>80.000000</td>\n",
       "      <td>18.000000</td>\n",
       "      <td>849.990000</td>\n",
       "      <td>NaN</td>\n",
       "      <td>NaN</td>\n",
       "      <td>NaN</td>\n",
       "    </tr>\n",
       "  </tbody>\n",
       "</table>\n",
       "</div>"
      ],
      "text/plain": [
       "       set_id              name          year  theme       subtheme  \\\n",
       "count   18457             18457  18457.000000  18457          14901   \n",
       "unique  18457             15374           NaN    154            895   \n",
       "top       1-8  Bonus/Value Pack           NaN   Gear  Magazine Gift   \n",
       "freq        1               165           NaN   2832            453   \n",
       "mean      NaN               NaN   2007.960611    NaN            NaN   \n",
       "std       NaN               NaN     11.948666    NaN            NaN   \n",
       "min       NaN               NaN   1970.000000    NaN            NaN   \n",
       "25%       NaN               NaN   2001.000000    NaN            NaN   \n",
       "50%       NaN               NaN   2011.000000    NaN            NaN   \n",
       "75%       NaN               NaN   2017.000000    NaN            NaN   \n",
       "max       NaN               NaN   2022.000000    NaN            NaN   \n",
       "\n",
       "           themeGroup category        pieces     minifigs  agerange_min  \\\n",
       "count           18455    18457  14533.000000  8399.000000   6787.000000   \n",
       "unique             16        7           NaN          NaN           NaN   \n",
       "top     Miscellaneous   Normal           NaN          NaN           NaN   \n",
       "freq             5891    12757           NaN          NaN           NaN   \n",
       "mean              NaN      NaN    226.473749     2.663650      6.637542   \n",
       "std               NaN      NaN    469.988785     2.897857      2.780091   \n",
       "min               NaN      NaN      0.000000     1.000000      1.000000   \n",
       "25%               NaN      NaN     23.000000     1.000000      5.000000   \n",
       "50%               NaN      NaN     70.000000     2.000000      6.000000   \n",
       "75%               NaN      NaN    242.000000     3.000000      8.000000   \n",
       "max               NaN      NaN  11695.000000    80.000000     18.000000   \n",
       "\n",
       "        US_retailPrice                    bricksetURL  \\\n",
       "count      6982.000000                          18457   \n",
       "unique             NaN                          18457   \n",
       "top                NaN  https://brickset.com/sets/1-8   \n",
       "freq               NaN                              1   \n",
       "mean         37.534817                            NaN   \n",
       "std          54.382712                            NaN   \n",
       "min           1.490000                            NaN   \n",
       "25%           9.990000                            NaN   \n",
       "50%          19.990000                            NaN   \n",
       "75%          39.990000                            NaN   \n",
       "max         849.990000                            NaN   \n",
       "\n",
       "                                             thumbnailURL  \\\n",
       "count                                               17451   \n",
       "unique                                              17422   \n",
       "top     https://images.brickset.com/sets/small/30324-1...   \n",
       "freq                                                    5   \n",
       "mean                                                  NaN   \n",
       "std                                                   NaN   \n",
       "min                                                   NaN   \n",
       "25%                                                   NaN   \n",
       "50%                                                   NaN   \n",
       "75%                                                   NaN   \n",
       "max                                                   NaN   \n",
       "\n",
       "                                                 imageURL  \n",
       "count                                               17451  \n",
       "unique                                              17422  \n",
       "top     https://images.brickset.com/sets/images/30324-...  \n",
       "freq                                                    5  \n",
       "mean                                                  NaN  \n",
       "std                                                   NaN  \n",
       "min                                                   NaN  \n",
       "25%                                                   NaN  \n",
       "50%                                                   NaN  \n",
       "75%                                                   NaN  \n",
       "max                                                   NaN  "
      ]
     },
     "execution_count": 4,
     "metadata": {},
     "output_type": "execute_result"
    }
   ],
   "source": [
    "# Check Statistical Value of Each Columns\n",
    "lego.describe(include='all')"
   ]
  },
  {
   "cell_type": "code",
   "execution_count": 5,
   "id": "fb359f20-d2b0-4a57-a6dd-2c597774df2b",
   "metadata": {
    "execution": {
     "iopub.execute_input": "2025-10-06T12:38:37.863416Z",
     "iopub.status.busy": "2025-10-06T12:38:37.863312Z",
     "iopub.status.idle": "2025-10-06T12:38:37.865828Z",
     "shell.execute_reply": "2025-10-06T12:38:37.865585Z",
     "shell.execute_reply.started": "2025-10-06T12:38:37.863405Z"
    }
   },
   "outputs": [],
   "source": [
    "# Drop the 'bricksetURL, thumbnailURL, imageURL' columns\n",
    "lego = lego.drop(columns=['bricksetURL', 'thumbnailURL', 'imageURL'], axis=1)"
   ]
  },
  {
   "cell_type": "code",
   "execution_count": 6,
   "id": "08e4ec1b-9a1a-458e-a047-ce5f9c6137b4",
   "metadata": {
    "execution": {
     "iopub.execute_input": "2025-10-06T12:38:37.866200Z",
     "iopub.status.busy": "2025-10-06T12:38:37.866135Z",
     "iopub.status.idle": "2025-10-06T12:38:37.871788Z",
     "shell.execute_reply": "2025-10-06T12:38:37.871539Z",
     "shell.execute_reply.started": "2025-10-06T12:38:37.866192Z"
    }
   },
   "outputs": [
    {
     "name": "stdout",
     "output_type": "stream",
     "text": [
      "<class 'pandas.core.frame.DataFrame'>\n",
      "RangeIndex: 18457 entries, 0 to 18456\n",
      "Data columns (total 11 columns):\n",
      " #   Column          Non-Null Count  Dtype  \n",
      "---  ------          --------------  -----  \n",
      " 0   set_id          18457 non-null  object \n",
      " 1   name            18457 non-null  object \n",
      " 2   year            18457 non-null  int64  \n",
      " 3   theme           18457 non-null  object \n",
      " 4   subtheme        14901 non-null  object \n",
      " 5   themeGroup      18455 non-null  object \n",
      " 6   category        18457 non-null  object \n",
      " 7   pieces          14533 non-null  float64\n",
      " 8   minifigs        8399 non-null   float64\n",
      " 9   agerange_min    6787 non-null   float64\n",
      " 10  US_retailPrice  6982 non-null   float64\n",
      "dtypes: float64(4), int64(1), object(6)\n",
      "memory usage: 1.5+ MB\n"
     ]
    }
   ],
   "source": [
    "lego.info()"
   ]
  },
  {
   "cell_type": "code",
   "execution_count": 7,
   "id": "60b4a96e-e60a-47a1-8b65-d8cd911c7b08",
   "metadata": {
    "execution": {
     "iopub.execute_input": "2025-10-06T12:38:37.872296Z",
     "iopub.status.busy": "2025-10-06T12:38:37.872227Z",
     "iopub.status.idle": "2025-10-06T12:38:37.876427Z",
     "shell.execute_reply": "2025-10-06T12:38:37.876201Z",
     "shell.execute_reply.started": "2025-10-06T12:38:37.872289Z"
    }
   },
   "outputs": [
    {
     "data": {
      "text/plain": [
       "subtheme\n",
       "Magazine Gift         453\n",
       "Promotional           416\n",
       "Product Collection    386\n",
       "Storage               283\n",
       "Miscellaneous         266\n",
       "                     ... \n",
       "Minecraft               1\n",
       "Back to the Future      1\n",
       "Explore                 1\n",
       "Glenat                  1\n",
       "Murdoch Books           1\n",
       "Name: count, Length: 895, dtype: int64"
      ]
     },
     "execution_count": 7,
     "metadata": {},
     "output_type": "execute_result"
    }
   ],
   "source": [
    "# Look Unique Value of 'subtheme'\n",
    "lego['subtheme'].value_counts()"
   ]
  },
  {
   "cell_type": "code",
   "execution_count": 8,
   "id": "d0a543c3-1055-4830-8c2c-c1874838d627",
   "metadata": {
    "execution": {
     "iopub.execute_input": "2025-10-06T12:38:37.876944Z",
     "iopub.status.busy": "2025-10-06T12:38:37.876847Z",
     "iopub.status.idle": "2025-10-06T12:38:37.883512Z",
     "shell.execute_reply": "2025-10-06T12:38:37.883273Z",
     "shell.execute_reply.started": "2025-10-06T12:38:37.876935Z"
    }
   },
   "outputs": [
    {
     "name": "stdout",
     "output_type": "stream",
     "text": [
      "<class 'pandas.core.frame.DataFrame'>\n",
      "RangeIndex: 18457 entries, 0 to 18456\n",
      "Data columns (total 11 columns):\n",
      " #   Column          Non-Null Count  Dtype  \n",
      "---  ------          --------------  -----  \n",
      " 0   set_id          18457 non-null  object \n",
      " 1   name            18457 non-null  object \n",
      " 2   year            18457 non-null  int64  \n",
      " 3   theme           18457 non-null  object \n",
      " 4   subtheme        18457 non-null  object \n",
      " 5   themeGroup      18455 non-null  object \n",
      " 6   category        18457 non-null  object \n",
      " 7   pieces          14533 non-null  float64\n",
      " 8   minifigs        8399 non-null   float64\n",
      " 9   agerange_min    6787 non-null   float64\n",
      " 10  US_retailPrice  6982 non-null   float64\n",
      "dtypes: float64(4), int64(1), object(6)\n",
      "memory usage: 1.5+ MB\n"
     ]
    }
   ],
   "source": [
    "# The null value in 'subtheme' will be replace by 'Miscellaneous'\n",
    "lego['subtheme'] = lego['subtheme'].fillna('Miscellaneous')\n",
    "lego.info()"
   ]
  },
  {
   "cell_type": "code",
   "execution_count": 9,
   "id": "5669975e-3314-466b-b62e-d67fe21a00cc",
   "metadata": {
    "execution": {
     "iopub.execute_input": "2025-10-06T12:38:37.883885Z",
     "iopub.status.busy": "2025-10-06T12:38:37.883805Z",
     "iopub.status.idle": "2025-10-06T12:38:37.886829Z",
     "shell.execute_reply": "2025-10-06T12:38:37.886623Z",
     "shell.execute_reply.started": "2025-10-06T12:38:37.883877Z"
    }
   },
   "outputs": [
    {
     "data": {
      "text/plain": [
       "themeGroup\n",
       "Miscellaneous       5891\n",
       "Licensed            2509\n",
       "Modern day          2357\n",
       "Pre-school          1537\n",
       "Action/Adventure    1397\n",
       "Basic                863\n",
       "Model making         719\n",
       "Technical            588\n",
       "Constraction         502\n",
       "Educational          493\n",
       "Historical           473\n",
       "Vintage              305\n",
       "Racing               270\n",
       "Girls                240\n",
       "Junior               227\n",
       "Art and crafts        84\n",
       "Name: count, dtype: int64"
      ]
     },
     "execution_count": 9,
     "metadata": {},
     "output_type": "execute_result"
    }
   ],
   "source": [
    "# Look unique value in 'themeGroup'\n",
    "lego['themeGroup'].value_counts()"
   ]
  },
  {
   "cell_type": "code",
   "execution_count": 10,
   "id": "a3a7f5c9-7f0f-4ef4-8653-42141eb377fb",
   "metadata": {
    "execution": {
     "iopub.execute_input": "2025-10-06T12:38:37.888375Z",
     "iopub.status.busy": "2025-10-06T12:38:37.888274Z",
     "iopub.status.idle": "2025-10-06T12:38:37.895002Z",
     "shell.execute_reply": "2025-10-06T12:38:37.894781Z",
     "shell.execute_reply.started": "2025-10-06T12:38:37.888365Z"
    }
   },
   "outputs": [
    {
     "name": "stdout",
     "output_type": "stream",
     "text": [
      "<class 'pandas.core.frame.DataFrame'>\n",
      "RangeIndex: 18457 entries, 0 to 18456\n",
      "Data columns (total 11 columns):\n",
      " #   Column          Non-Null Count  Dtype  \n",
      "---  ------          --------------  -----  \n",
      " 0   set_id          18457 non-null  object \n",
      " 1   name            18457 non-null  object \n",
      " 2   year            18457 non-null  int64  \n",
      " 3   theme           18457 non-null  object \n",
      " 4   subtheme        18457 non-null  object \n",
      " 5   themeGroup      18457 non-null  object \n",
      " 6   category        18457 non-null  object \n",
      " 7   pieces          14533 non-null  float64\n",
      " 8   minifigs        8399 non-null   float64\n",
      " 9   agerange_min    6787 non-null   float64\n",
      " 10  US_retailPrice  6982 non-null   float64\n",
      "dtypes: float64(4), int64(1), object(6)\n",
      "memory usage: 1.5+ MB\n"
     ]
    }
   ],
   "source": [
    "# The null value in 'themeGroup' will be replaced by 'Miscellanous'\n",
    "lego['themeGroup'] = lego['themeGroup'].fillna('Miscellanous')\n",
    "lego.info()"
   ]
  },
  {
   "cell_type": "code",
   "execution_count": 11,
   "id": "79451fff-973c-403c-b7a9-8385a2669f8b",
   "metadata": {
    "execution": {
     "iopub.execute_input": "2025-10-06T12:38:37.895708Z",
     "iopub.status.busy": "2025-10-06T12:38:37.895414Z",
     "iopub.status.idle": "2025-10-06T12:38:37.983667Z",
     "shell.execute_reply": "2025-10-06T12:38:37.983422Z",
     "shell.execute_reply.started": "2025-10-06T12:38:37.895699Z"
    }
   },
   "outputs": [
    {
     "data": {
      "image/png": "[encoded data removed]",
      "text/plain": [
       "<Figure size 640x480 with 1 Axes>"
      ]
     },
     "metadata": {},
     "output_type": "display_data"
    }
   ],
   "source": [
    "# distribution value in 'pieces'\n",
    "sns.boxplot(x='pieces', data=lego)\n",
    "plt.show()"
   ]
  },
  {
   "cell_type": "code",
   "execution_count": 12,
   "id": "7cef107b-a534-440b-ba46-c5f5e31c732e",
   "metadata": {
    "execution": {
     "iopub.execute_input": "2025-10-06T12:38:37.984226Z",
     "iopub.status.busy": "2025-10-06T12:38:37.984080Z",
     "iopub.status.idle": "2025-10-06T12:38:38.023192Z",
     "shell.execute_reply": "2025-10-06T12:38:38.022919Z",
     "shell.execute_reply.started": "2025-10-06T12:38:37.984216Z"
    }
   },
   "outputs": [
    {
     "data": {
      "image/png": "[encoded data removed]",
      "text/plain": [
       "<Figure size 640x480 with 1 Axes>"
      ]
     },
     "metadata": {},
     "output_type": "display_data"
    }
   ],
   "source": [
    "# distribution value in 'minifigs'\n",
    "sns.boxplot(x='minifigs', data=lego)\n",
    "plt.show()"
   ]
  },
  {
   "cell_type": "code",
   "execution_count": 13,
   "id": "0ccfa98c-6873-4ef5-a0d3-71d80aa3cdbb",
   "metadata": {
    "execution": {
     "iopub.execute_input": "2025-10-06T12:38:38.023658Z",
     "iopub.status.busy": "2025-10-06T12:38:38.023578Z",
     "iopub.status.idle": "2025-10-06T12:38:38.062459Z",
     "shell.execute_reply": "2025-10-06T12:38:38.062189Z",
     "shell.execute_reply.started": "2025-10-06T12:38:38.023649Z"
    }
   },
   "outputs": [
    {
     "data": {
      "image/png": "[encoded data removed]",
      "text/plain": [
       "<Figure size 640x480 with 1 Axes>"
      ]
     },
     "metadata": {},
     "output_type": "display_data"
    }
   ],
   "source": [
    "# distribution value in 'agerange_min'\n",
    "sns.boxplot(x='agerange_min', data=lego)\n",
    "plt.show()"
   ]
  },
  {
   "cell_type": "code",
   "execution_count": 14,
   "id": "36f43aa2-1a25-49b3-9ec8-35c380696c01",
   "metadata": {
    "execution": {
     "iopub.execute_input": "2025-10-06T12:38:38.062857Z",
     "iopub.status.busy": "2025-10-06T12:38:38.062780Z",
     "iopub.status.idle": "2025-10-06T12:38:38.098654Z",
     "shell.execute_reply": "2025-10-06T12:38:38.098381Z",
     "shell.execute_reply.started": "2025-10-06T12:38:38.062850Z"
    }
   },
   "outputs": [
    {
     "data": {
      "image/png": "[encoded data removed]",
      "text/plain": [
       "<Figure size 640x480 with 1 Axes>"
      ]
     },
     "metadata": {},
     "output_type": "display_data"
    }
   ],
   "source": [
    "# distribution value in 'US_retailPrice'\n",
    "sns.boxplot(x='US_retailPrice', data=lego)\n",
    "plt.show()"
   ]
  },
  {
   "cell_type": "code",
   "execution_count": 15,
   "id": "21696341-c8e6-4e0e-a27e-82938eff56ad",
   "metadata": {
    "execution": {
     "iopub.execute_input": "2025-10-06T12:38:38.099050Z",
     "iopub.status.busy": "2025-10-06T12:38:38.098962Z",
     "iopub.status.idle": "2025-10-06T12:38:38.106675Z",
     "shell.execute_reply": "2025-10-06T12:38:38.106450Z",
     "shell.execute_reply.started": "2025-10-06T12:38:38.099040Z"
    }
   },
   "outputs": [
    {
     "name": "stdout",
     "output_type": "stream",
     "text": [
      "<class 'pandas.core.frame.DataFrame'>\n",
      "RangeIndex: 18457 entries, 0 to 18456\n",
      "Data columns (total 11 columns):\n",
      " #   Column          Non-Null Count  Dtype  \n",
      "---  ------          --------------  -----  \n",
      " 0   set_id          18457 non-null  object \n",
      " 1   name            18457 non-null  object \n",
      " 2   year            18457 non-null  int64  \n",
      " 3   theme           18457 non-null  object \n",
      " 4   subtheme        18457 non-null  object \n",
      " 5   themeGroup      18457 non-null  object \n",
      " 6   category        18457 non-null  object \n",
      " 7   pieces          18457 non-null  float64\n",
      " 8   minifigs        18457 non-null  float64\n",
      " 9   agerange_min    18457 non-null  float64\n",
      " 10  US_retailPrice  18457 non-null  float64\n",
      "dtypes: float64(4), int64(1), object(6)\n",
      "memory usage: 1.5+ MB\n"
     ]
    }
   ],
   "source": [
    "# The null value in each column will be filled by using the median value of each columns\n",
    "lego['pieces'] = lego['pieces'].fillna(lego['pieces'].median())\n",
    "lego['minifigs'] = lego['minifigs'].fillna(lego['minifigs'].median())\n",
    "lego['agerange_min'] = lego['agerange_min'].fillna(lego['agerange_min'].median())\n",
    "lego['US_retailPrice'] = lego['US_retailPrice'].fillna(lego['US_retailPrice'].median())\n",
    "\n",
    "lego.info()"
   ]
  },
  {
   "cell_type": "code",
   "execution_count": 16,
   "id": "04a0b7a7-4b1b-4376-ba92-6b91bda2c780",
   "metadata": {
    "execution": {
     "iopub.execute_input": "2025-10-06T12:38:38.107198Z",
     "iopub.status.busy": "2025-10-06T12:38:38.107071Z",
     "iopub.status.idle": "2025-10-06T12:38:38.176375Z",
     "shell.execute_reply": "2025-10-06T12:38:38.176101Z",
     "shell.execute_reply.started": "2025-10-06T12:38:38.107190Z"
    }
   },
   "outputs": [],
   "source": [
    "# save clean file\n",
    "lego.to_csv('lego_sets_cleaned.csv')\n",
    "lego = lego.copy()"
   ]
  },
  {
   "cell_type": "markdown",
   "id": "e20dfedc-abc0-4318-9a8a-f82da450d16f",
   "metadata": {},
   "source": [
    "# How Many Sets LEGO sets have been released since 1970?"
   ]
  },
  {
   "cell_type": "code",
   "execution_count": 17,
   "id": "ca43790b-6f56-4ea3-8931-52aaf5f4db7b",
   "metadata": {
    "execution": {
     "iopub.execute_input": "2025-10-06T12:38:38.176870Z",
     "iopub.status.busy": "2025-10-06T12:38:38.176770Z",
     "iopub.status.idle": "2025-10-06T12:38:38.181555Z",
     "shell.execute_reply": "2025-10-06T12:38:38.181344Z",
     "shell.execute_reply.started": "2025-10-06T12:38:38.176860Z"
    }
   },
   "outputs": [
    {
     "data": {
      "text/html": [
       "<div>\n",
       "<style scoped>\n",
       "    .dataframe tbody tr th:only-of-type {\n",
       "        vertical-align: middle;\n",
       "    }\n",
       "\n",
       "    .dataframe tbody tr th {\n",
       "        vertical-align: top;\n",
       "    }\n",
       "\n",
       "    .dataframe thead th {\n",
       "        text-align: right;\n",
       "    }\n",
       "</style>\n",
       "<table border=\"1\" class=\"dataframe\">\n",
       "  <thead>\n",
       "    <tr style=\"text-align: right;\">\n",
       "      <th></th>\n",
       "      <th>year</th>\n",
       "      <th>set_id</th>\n",
       "    </tr>\n",
       "  </thead>\n",
       "  <tbody>\n",
       "    <tr>\n",
       "      <th>0</th>\n",
       "      <td>1970</td>\n",
       "      <td>41</td>\n",
       "    </tr>\n",
       "    <tr>\n",
       "      <th>1</th>\n",
       "      <td>1971</td>\n",
       "      <td>78</td>\n",
       "    </tr>\n",
       "    <tr>\n",
       "      <th>2</th>\n",
       "      <td>1972</td>\n",
       "      <td>45</td>\n",
       "    </tr>\n",
       "    <tr>\n",
       "      <th>3</th>\n",
       "      <td>1973</td>\n",
       "      <td>76</td>\n",
       "    </tr>\n",
       "    <tr>\n",
       "      <th>4</th>\n",
       "      <td>1974</td>\n",
       "      <td>40</td>\n",
       "    </tr>\n",
       "    <tr>\n",
       "      <th>5</th>\n",
       "      <td>1975</td>\n",
       "      <td>45</td>\n",
       "    </tr>\n",
       "    <tr>\n",
       "      <th>6</th>\n",
       "      <td>1976</td>\n",
       "      <td>76</td>\n",
       "    </tr>\n",
       "    <tr>\n",
       "      <th>7</th>\n",
       "      <td>1977</td>\n",
       "      <td>74</td>\n",
       "    </tr>\n",
       "    <tr>\n",
       "      <th>8</th>\n",
       "      <td>1978</td>\n",
       "      <td>87</td>\n",
       "    </tr>\n",
       "    <tr>\n",
       "      <th>9</th>\n",
       "      <td>1979</td>\n",
       "      <td>90</td>\n",
       "    </tr>\n",
       "    <tr>\n",
       "      <th>10</th>\n",
       "      <td>1980</td>\n",
       "      <td>117</td>\n",
       "    </tr>\n",
       "    <tr>\n",
       "      <th>11</th>\n",
       "      <td>1981</td>\n",
       "      <td>74</td>\n",
       "    </tr>\n",
       "    <tr>\n",
       "      <th>12</th>\n",
       "      <td>1982</td>\n",
       "      <td>73</td>\n",
       "    </tr>\n",
       "    <tr>\n",
       "      <th>13</th>\n",
       "      <td>1983</td>\n",
       "      <td>76</td>\n",
       "    </tr>\n",
       "    <tr>\n",
       "      <th>14</th>\n",
       "      <td>1984</td>\n",
       "      <td>84</td>\n",
       "    </tr>\n",
       "    <tr>\n",
       "      <th>15</th>\n",
       "      <td>1985</td>\n",
       "      <td>141</td>\n",
       "    </tr>\n",
       "    <tr>\n",
       "      <th>16</th>\n",
       "      <td>1986</td>\n",
       "      <td>152</td>\n",
       "    </tr>\n",
       "    <tr>\n",
       "      <th>17</th>\n",
       "      <td>1987</td>\n",
       "      <td>200</td>\n",
       "    </tr>\n",
       "    <tr>\n",
       "      <th>18</th>\n",
       "      <td>1988</td>\n",
       "      <td>79</td>\n",
       "    </tr>\n",
       "    <tr>\n",
       "      <th>19</th>\n",
       "      <td>1989</td>\n",
       "      <td>146</td>\n",
       "    </tr>\n",
       "    <tr>\n",
       "      <th>20</th>\n",
       "      <td>1990</td>\n",
       "      <td>129</td>\n",
       "    </tr>\n",
       "    <tr>\n",
       "      <th>21</th>\n",
       "      <td>1991</td>\n",
       "      <td>147</td>\n",
       "    </tr>\n",
       "    <tr>\n",
       "      <th>22</th>\n",
       "      <td>1992</td>\n",
       "      <td>112</td>\n",
       "    </tr>\n",
       "    <tr>\n",
       "      <th>23</th>\n",
       "      <td>1993</td>\n",
       "      <td>168</td>\n",
       "    </tr>\n",
       "    <tr>\n",
       "      <th>24</th>\n",
       "      <td>1994</td>\n",
       "      <td>154</td>\n",
       "    </tr>\n",
       "    <tr>\n",
       "      <th>25</th>\n",
       "      <td>1995</td>\n",
       "      <td>172</td>\n",
       "    </tr>\n",
       "    <tr>\n",
       "      <th>26</th>\n",
       "      <td>1996</td>\n",
       "      <td>213</td>\n",
       "    </tr>\n",
       "    <tr>\n",
       "      <th>27</th>\n",
       "      <td>1997</td>\n",
       "      <td>264</td>\n",
       "    </tr>\n",
       "    <tr>\n",
       "      <th>28</th>\n",
       "      <td>1998</td>\n",
       "      <td>383</td>\n",
       "    </tr>\n",
       "    <tr>\n",
       "      <th>29</th>\n",
       "      <td>1999</td>\n",
       "      <td>352</td>\n",
       "    </tr>\n",
       "    <tr>\n",
       "      <th>30</th>\n",
       "      <td>2000</td>\n",
       "      <td>384</td>\n",
       "    </tr>\n",
       "    <tr>\n",
       "      <th>31</th>\n",
       "      <td>2001</td>\n",
       "      <td>409</td>\n",
       "    </tr>\n",
       "    <tr>\n",
       "      <th>32</th>\n",
       "      <td>2002</td>\n",
       "      <td>449</td>\n",
       "    </tr>\n",
       "    <tr>\n",
       "      <th>33</th>\n",
       "      <td>2003</td>\n",
       "      <td>426</td>\n",
       "    </tr>\n",
       "    <tr>\n",
       "      <th>34</th>\n",
       "      <td>2004</td>\n",
       "      <td>419</td>\n",
       "    </tr>\n",
       "    <tr>\n",
       "      <th>35</th>\n",
       "      <td>2005</td>\n",
       "      <td>395</td>\n",
       "    </tr>\n",
       "    <tr>\n",
       "      <th>36</th>\n",
       "      <td>2006</td>\n",
       "      <td>467</td>\n",
       "    </tr>\n",
       "    <tr>\n",
       "      <th>37</th>\n",
       "      <td>2007</td>\n",
       "      <td>449</td>\n",
       "    </tr>\n",
       "    <tr>\n",
       "      <th>38</th>\n",
       "      <td>2008</td>\n",
       "      <td>443</td>\n",
       "    </tr>\n",
       "    <tr>\n",
       "      <th>39</th>\n",
       "      <td>2009</td>\n",
       "      <td>487</td>\n",
       "    </tr>\n",
       "    <tr>\n",
       "      <th>40</th>\n",
       "      <td>2010</td>\n",
       "      <td>529</td>\n",
       "    </tr>\n",
       "    <tr>\n",
       "      <th>41</th>\n",
       "      <td>2011</td>\n",
       "      <td>591</td>\n",
       "    </tr>\n",
       "    <tr>\n",
       "      <th>42</th>\n",
       "      <td>2012</td>\n",
       "      <td>703</td>\n",
       "    </tr>\n",
       "    <tr>\n",
       "      <th>43</th>\n",
       "      <td>2013</td>\n",
       "      <td>710</td>\n",
       "    </tr>\n",
       "    <tr>\n",
       "      <th>44</th>\n",
       "      <td>2014</td>\n",
       "      <td>757</td>\n",
       "    </tr>\n",
       "    <tr>\n",
       "      <th>45</th>\n",
       "      <td>2015</td>\n",
       "      <td>808</td>\n",
       "    </tr>\n",
       "    <tr>\n",
       "      <th>46</th>\n",
       "      <td>2016</td>\n",
       "      <td>845</td>\n",
       "    </tr>\n",
       "    <tr>\n",
       "      <th>47</th>\n",
       "      <td>2017</td>\n",
       "      <td>861</td>\n",
       "    </tr>\n",
       "    <tr>\n",
       "      <th>48</th>\n",
       "      <td>2018</td>\n",
       "      <td>829</td>\n",
       "    </tr>\n",
       "    <tr>\n",
       "      <th>49</th>\n",
       "      <td>2019</td>\n",
       "      <td>848</td>\n",
       "    </tr>\n",
       "    <tr>\n",
       "      <th>50</th>\n",
       "      <td>2020</td>\n",
       "      <td>849</td>\n",
       "    </tr>\n",
       "    <tr>\n",
       "      <th>51</th>\n",
       "      <td>2021</td>\n",
       "      <td>944</td>\n",
       "    </tr>\n",
       "    <tr>\n",
       "      <th>52</th>\n",
       "      <td>2022</td>\n",
       "      <td>967</td>\n",
       "    </tr>\n",
       "  </tbody>\n",
       "</table>\n",
       "</div>"
      ],
      "text/plain": [
       "    year  set_id\n",
       "0   1970      41\n",
       "1   1971      78\n",
       "2   1972      45\n",
       "3   1973      76\n",
       "4   1974      40\n",
       "5   1975      45\n",
       "6   1976      76\n",
       "7   1977      74\n",
       "8   1978      87\n",
       "9   1979      90\n",
       "10  1980     117\n",
       "11  1981      74\n",
       "12  1982      73\n",
       "13  1983      76\n",
       "14  1984      84\n",
       "15  1985     141\n",
       "16  1986     152\n",
       "17  1987     200\n",
       "18  1988      79\n",
       "19  1989     146\n",
       "20  1990     129\n",
       "21  1991     147\n",
       "22  1992     112\n",
       "23  1993     168\n",
       "24  1994     154\n",
       "25  1995     172\n",
       "26  1996     213\n",
       "27  1997     264\n",
       "28  1998     383\n",
       "29  1999     352\n",
       "30  2000     384\n",
       "31  2001     409\n",
       "32  2002     449\n",
       "33  2003     426\n",
       "34  2004     419\n",
       "35  2005     395\n",
       "36  2006     467\n",
       "37  2007     449\n",
       "38  2008     443\n",
       "39  2009     487\n",
       "40  2010     529\n",
       "41  2011     591\n",
       "42  2012     703\n",
       "43  2013     710\n",
       "44  2014     757\n",
       "45  2015     808\n",
       "46  2016     845\n",
       "47  2017     861\n",
       "48  2018     829\n",
       "49  2019     848\n",
       "50  2020     849\n",
       "51  2021     944\n",
       "52  2022     967"
      ]
     },
     "execution_count": 17,
     "metadata": {},
     "output_type": "execute_result"
    }
   ],
   "source": [
    "lego_count_year = lego.groupby('year')['set_id'].count().reset_index()\n",
    "lego_count_year"
   ]
  },
  {
   "cell_type": "code",
   "execution_count": 35,
   "id": "06a40184-59c8-406b-b235-33b6c16eaf2f",
   "metadata": {
    "execution": {
     "iopub.execute_input": "2025-10-06T12:39:44.969923Z",
     "iopub.status.busy": "2025-10-06T12:39:44.969480Z",
     "iopub.status.idle": "2025-10-06T12:39:45.066949Z",
     "shell.execute_reply": "2025-10-06T12:39:45.066692Z",
     "shell.execute_reply.started": "2025-10-06T12:39:44.969892Z"
    }
   },
   "outputs": [
    {
     "data": {
      "image/png": "[encoded data removed]",
      "text/plain": [
       "<Figure size 640x480 with 1 Axes>"
      ]
     },
     "metadata": {},
     "output_type": "display_data"
    }
   ],
   "source": [
    "plt.plot(lego_count_year['year'], lego_count_year['set_id'])\n",
    "plt.title('LEGO Sets Over Year')\n",
    "plt.xlabel('Year')\n",
    "plt.ylabel('Number of LEGO Set')\n",
    "plt.savefig('LEGO Over Year.png')\n",
    "plt.show()"
   ]
  },
  {
   "cell_type": "markdown",
   "id": "33ced1c6-510f-483a-896c-1b49140e7acb",
   "metadata": {},
   "source": [
    "# Relationship Between Price of Set and Number of Pieces"
   ]
  },
  {
   "cell_type": "code",
   "execution_count": 37,
   "id": "ed999d5b-429a-48e6-a514-6d11b514e328",
   "metadata": {
    "execution": {
     "iopub.execute_input": "2025-10-06T12:53:37.737865Z",
     "iopub.status.busy": "2025-10-06T12:53:37.737389Z",
     "iopub.status.idle": "2025-10-06T12:53:37.863788Z",
     "shell.execute_reply": "2025-10-06T12:53:37.863494Z",
     "shell.execute_reply.started": "2025-10-06T12:53:37.737831Z"
    }
   },
   "outputs": [
    {
     "data": {
      "image/png": "[encoded data removed]",
      "text/plain": [
       "<Figure size 640x480 with 1 Axes>"
      ]
     },
     "metadata": {},
     "output_type": "display_data"
    }
   ],
   "source": [
    "sns.scatterplot(x='US_retailPrice', y='pieces', data=lego)\n",
    "plt.title('Correlation Between LEGO Set Price vs LEGO Set Pieces')\n",
    "plt.xlabel('Price ($)')\n",
    "plt.ylabel('Number of Pieces')\n",
    "plt.savefig('LEGO Price vs LEGO Pieces Correlation.png')\n",
    "plt.show()"
   ]
  },
  {
   "cell_type": "markdown",
   "id": "45c32c2f-d8a5-4136-a734-78361ebd57db",
   "metadata": {},
   "source": [
    "# Most Popular LEGO Theme in Each Decade"
   ]
  },
  {
   "cell_type": "code",
   "execution_count": 20,
   "id": "6a5f58b1-3e41-44ca-9052-59a70e115873",
   "metadata": {
    "execution": {
     "iopub.execute_input": "2025-10-06T12:38:38.279003Z",
     "iopub.status.busy": "2025-10-06T12:38:38.278926Z",
     "iopub.status.idle": "2025-10-06T12:38:38.283845Z",
     "shell.execute_reply": "2025-10-06T12:38:38.283611Z",
     "shell.execute_reply.started": "2025-10-06T12:38:38.278995Z"
    }
   },
   "outputs": [],
   "source": [
    "# Filter data per each decade\n",
    "lego_1970 = lego[(lego['year'] >= 1970) & (lego['year'] <= 1979)]\n",
    "lego_1980 = lego[(lego['year'] >= 1980) & (lego['year'] <= 1989)]\n",
    "lego_1990 = lego[(lego['year'] >= 1990) & (lego['year'] <= 1999)]\n",
    "lego_2000 = lego[(lego['year'] >= 2000) & (lego['year'] <= 2009)]\n",
    "lego_2010 = lego[(lego['year'] >= 2010) & (lego['year'] <= 2019)]\n",
    "lego_2020 = lego[(lego['year'] >= 2020) & (lego['year'] <= 2022)]"
   ]
  },
  {
   "cell_type": "markdown",
   "id": "569a08f1-6cd0-4866-805c-048b3fefd21f",
   "metadata": {},
   "source": [
    "Since there are many themes in each decade, we will highlight the popular LEGO themes in **top 5 popular LEGO themes** for each decade."
   ]
  },
  {
   "cell_type": "markdown",
   "id": "a74d47e4-d03f-4c9a-9ddb-b025dede8b03",
   "metadata": {},
   "source": [
    "## LEGO Popular Theme in 1970s"
   ]
  },
  {
   "cell_type": "code",
   "execution_count": 21,
   "id": "131a070d-532d-4e97-bdda-fb7f633bb8ed",
   "metadata": {
    "execution": {
     "iopub.execute_input": "2025-10-06T12:38:38.284243Z",
     "iopub.status.busy": "2025-10-06T12:38:38.284163Z",
     "iopub.status.idle": "2025-10-06T12:38:38.287391Z",
     "shell.execute_reply": "2025-10-06T12:38:38.287190Z",
     "shell.execute_reply.started": "2025-10-06T12:38:38.284236Z"
    }
   },
   "outputs": [
    {
     "data": {
      "text/plain": [
       "theme\n",
       "LEGOLAND     159\n",
       "Samsonite     55\n",
       "Town          54\n",
       "Trains        44\n",
       "Basic         41\n",
       "Name: set_id, dtype: int64"
      ]
     },
     "execution_count": 21,
     "metadata": {},
     "output_type": "execute_result"
    }
   ],
   "source": [
    "lego_1970_theme = lego_1970.groupby('theme')['set_id'].count()\n",
    "lego_1970_theme = lego_1970_theme.sort_values(ascending=False)\n",
    "lego_1970_theme_top_5 = lego_1970_theme.head(5)\n",
    "lego_1970_theme_top_5"
   ]
  },
  {
   "cell_type": "code",
   "execution_count": 38,
   "id": "afe87aeb-c9d2-4fc8-ad41-ee95ea5b3f0f",
   "metadata": {
    "execution": {
     "iopub.execute_input": "2025-10-06T13:02:14.010840Z",
     "iopub.status.busy": "2025-10-06T13:02:14.010310Z",
     "iopub.status.idle": "2025-10-06T13:02:14.105262Z",
     "shell.execute_reply": "2025-10-06T13:02:14.104943Z",
     "shell.execute_reply.started": "2025-10-06T13:02:14.010810Z"
    }
   },
   "outputs": [
    {
     "data": {
      "image/png": "[encoded data removed]",
      "text/plain": [
       "<Figure size 640x480 with 1 Axes>"
      ]
     },
     "metadata": {},
     "output_type": "display_data"
    }
   ],
   "source": [
    "plt.bar(lego_1970_theme_top_5.index, lego_1970_theme_top_5.values)\n",
    "plt.title(\"Top 5 LEGO Popular Themes In 1970s\")\n",
    "plt.xlabel(\"Theme\")\n",
    "plt.ylabel(\"Number of Set\")\n",
    "plt.savefig(\"Top 5 LEGO Popular Theme in 1970.png\")\n",
    "plt.show()"
   ]
  },
  {
   "cell_type": "markdown",
   "id": "d015fcef-44d6-45b7-aaf6-fd63f1b11094",
   "metadata": {},
   "source": [
    "## LEGO Popular Theme in 1980s"
   ]
  },
  {
   "cell_type": "code",
   "execution_count": 23,
   "id": "4bb6bed7-6d4b-43b7-8e4e-d3c7beec1728",
   "metadata": {
    "execution": {
     "iopub.execute_input": "2025-10-06T12:38:38.316925Z",
     "iopub.status.busy": "2025-10-06T12:38:38.316835Z",
     "iopub.status.idle": "2025-10-06T12:38:38.320462Z",
     "shell.execute_reply": "2025-10-06T12:38:38.320153Z",
     "shell.execute_reply.started": "2025-10-06T12:38:38.316917Z"
    }
   },
   "outputs": [
    {
     "data": {
      "text/plain": [
       "theme\n",
       "Town             190\n",
       "Service Packs    167\n",
       "Basic            160\n",
       "Duplo            154\n",
       "Space            106\n",
       "Name: set_id, dtype: int64"
      ]
     },
     "execution_count": 23,
     "metadata": {},
     "output_type": "execute_result"
    }
   ],
   "source": [
    "lego_1980_theme = lego_1980.groupby('theme')['set_id'].count()\n",
    "lego_1980_theme = lego_1980_theme.sort_values(ascending=False)\n",
    "lego_1980_theme_top_5 = lego_1980_theme.head(5)\n",
    "lego_1980_theme_top_5"
   ]
  },
  {
   "cell_type": "code",
   "execution_count": 39,
   "id": "6341ee71-51e5-4643-9054-2a5c3221ecc1",
   "metadata": {
    "execution": {
     "iopub.execute_input": "2025-10-06T13:02:47.743932Z",
     "iopub.status.busy": "2025-10-06T13:02:47.743652Z",
     "iopub.status.idle": "2025-10-06T13:02:47.815806Z",
     "shell.execute_reply": "2025-10-06T13:02:47.815475Z",
     "shell.execute_reply.started": "2025-10-06T13:02:47.743914Z"
    }
   },
   "outputs": [
    {
     "data": {
      "image/png": "[encoded data removed]",
      "text/plain": [
       "<Figure size 640x480 with 1 Axes>"
      ]
     },
     "metadata": {},
     "output_type": "display_data"
    }
   ],
   "source": [
    "plt.bar(lego_1980_theme_top_5.index, lego_1980_theme_top_5.values)\n",
    "plt.title(\"Top 5 LEGO Popular Themes In 1980s\")\n",
    "plt.xlabel(\"Theme\")\n",
    "plt.ylabel(\"Number of Set\")\n",
    "plt.savefig(\"Top 5 LEGO Popular Theme in 1980.png\")\n",
    "plt.show()"
   ]
  },
  {
   "cell_type": "markdown",
   "id": "98995596-b613-4edb-8dd5-496dd8849947",
   "metadata": {},
   "source": [
    "## LEGO Popular Theme in 1990s"
   ]
  },
  {
   "cell_type": "code",
   "execution_count": 25,
   "id": "dd607747-4fb6-4fae-a43e-bfb03fb5ed89",
   "metadata": {
    "execution": {
     "iopub.execute_input": "2025-10-06T12:38:38.349121Z",
     "iopub.status.busy": "2025-10-06T12:38:38.349035Z",
     "iopub.status.idle": "2025-10-06T12:38:38.352447Z",
     "shell.execute_reply": "2025-10-06T12:38:38.352230Z",
     "shell.execute_reply.started": "2025-10-06T12:38:38.349113Z"
    }
   },
   "outputs": [
    {
     "data": {
      "text/plain": [
       "theme\n",
       "Town             346\n",
       "Duplo            336\n",
       "Service Packs    204\n",
       "Basic            194\n",
       "Technic          129\n",
       "Name: set_id, dtype: int64"
      ]
     },
     "execution_count": 25,
     "metadata": {},
     "output_type": "execute_result"
    }
   ],
   "source": [
    "lego_1990_theme = lego_1990.groupby('theme')['set_id'].count()\n",
    "lego_1990_theme = lego_1990_theme.sort_values(ascending=False)\n",
    "lego_1990_theme_top_5 = lego_1990_theme.head(5)\n",
    "lego_1990_theme_top_5"
   ]
  },
  {
   "cell_type": "code",
   "execution_count": 40,
   "id": "24e8391b-baa5-4d8d-8147-6c57cd29bf96",
   "metadata": {
    "execution": {
     "iopub.execute_input": "2025-10-06T13:03:12.139519Z",
     "iopub.status.busy": "2025-10-06T13:03:12.138964Z",
     "iopub.status.idle": "2025-10-06T13:03:12.233300Z",
     "shell.execute_reply": "2025-10-06T13:03:12.233026Z",
     "shell.execute_reply.started": "2025-10-06T13:03:12.139481Z"
    }
   },
   "outputs": [
    {
     "data": {
      "image/png": "[encoded data removed]",
      "text/plain": [
       "<Figure size 640x480 with 1 Axes>"
      ]
     },
     "metadata": {},
     "output_type": "display_data"
    }
   ],
   "source": [
    "plt.bar(lego_1990_theme_top_5.index, lego_1990_theme_top_5.values)\n",
    "plt.title(\"Top 5 LEGO Popular Themes In 1990s\")\n",
    "plt.xlabel(\"Theme\")\n",
    "plt.ylabel(\"Number of Set\")\n",
    "plt.savefig(\"Top 5 LEGO Popular Theme in 1990.png\")\n",
    "plt.show()"
   ]
  },
  {
   "cell_type": "markdown",
   "id": "b5d2d2f1-d57e-4013-931c-1b902dcb1c47",
   "metadata": {},
   "source": [
    "## LEGO Popular Theme in 2000s"
   ]
  },
  {
   "cell_type": "code",
   "execution_count": 27,
   "id": "1989c299-7441-46ec-9ccb-677aa720a777",
   "metadata": {
    "execution": {
     "iopub.execute_input": "2025-10-06T12:38:38.385021Z",
     "iopub.status.busy": "2025-10-06T12:38:38.384936Z",
     "iopub.status.idle": "2025-10-06T12:38:38.388787Z",
     "shell.execute_reply": "2025-10-06T12:38:38.388545Z",
     "shell.execute_reply.started": "2025-10-06T12:38:38.385013Z"
    }
   },
   "outputs": [
    {
     "data": {
      "text/plain": [
       "theme\n",
       "Gear        892\n",
       "Bionicle    340\n",
       "Duplo       308\n",
       "Creator     234\n",
       "Racers      208\n",
       "Name: set_id, dtype: int64"
      ]
     },
     "execution_count": 27,
     "metadata": {},
     "output_type": "execute_result"
    }
   ],
   "source": [
    "lego_2000_theme = lego_2000.groupby('theme')['set_id'].count()\n",
    "lego_2000_theme = lego_2000_theme.sort_values(ascending=False)\n",
    "lego_2000_theme_top_5 = lego_2000_theme.head(5)\n",
    "lego_2000_theme_top_5"
   ]
  },
  {
   "cell_type": "code",
   "execution_count": 41,
   "id": "4a850ade-1975-4c1e-a4e3-dde487c77dcc",
   "metadata": {
    "execution": {
     "iopub.execute_input": "2025-10-06T13:03:34.521563Z",
     "iopub.status.busy": "2025-10-06T13:03:34.521031Z",
     "iopub.status.idle": "2025-10-06T13:03:34.609751Z",
     "shell.execute_reply": "2025-10-06T13:03:34.609462Z",
     "shell.execute_reply.started": "2025-10-06T13:03:34.521527Z"
    }
   },
   "outputs": [
    {
     "data": {
      "image/png": "[encoded data removed]",
      "text/plain": [
       "<Figure size 640x480 with 1 Axes>"
      ]
     },
     "metadata": {},
     "output_type": "display_data"
    }
   ],
   "source": [
    "plt.bar(lego_2000_theme_top_5.index, lego_2000_theme_top_5.values)\n",
    "plt.title(\"Top 5 LEGO Popular Themes In 2000s\")\n",
    "plt.xlabel(\"Theme\")\n",
    "plt.ylabel(\"Number of Set\")\n",
    "plt.savefig(\"Top 5 LEGO Popular Theme in 2000.png\")\n",
    "plt.show()"
   ]
  },
  {
   "cell_type": "markdown",
   "id": "a04626a1-e41d-4746-989a-49a900a1d677",
   "metadata": {},
   "source": [
    "## LEGO Popular Theme in 2010s"
   ]
  },
  {
   "cell_type": "code",
   "execution_count": 29,
   "id": "6e6c7545-13b5-4de4-a452-ded9cc026d4c",
   "metadata": {
    "execution": {
     "iopub.execute_input": "2025-10-06T12:38:38.418301Z",
     "iopub.status.busy": "2025-10-06T12:38:38.418208Z",
     "iopub.status.idle": "2025-10-06T12:38:38.421839Z",
     "shell.execute_reply": "2025-10-06T12:38:38.421620Z",
     "shell.execute_reply.started": "2025-10-06T12:38:38.418292Z"
    }
   },
   "outputs": [
    {
     "data": {
      "text/plain": [
       "theme\n",
       "Gear                       1306\n",
       "Collectable Minifigures     620\n",
       "Star Wars                   519\n",
       "City                        429\n",
       "Books                       376\n",
       "Name: set_id, dtype: int64"
      ]
     },
     "execution_count": 29,
     "metadata": {},
     "output_type": "execute_result"
    }
   ],
   "source": [
    "lego_2010_theme = lego_2010.groupby('theme')['set_id'].count()\n",
    "lego_2010_theme = lego_2010_theme.sort_values(ascending=False)\n",
    "lego_2010_theme_top_5 = lego_2010_theme.head(5)\n",
    "lego_2010_theme_top_5"
   ]
  },
  {
   "cell_type": "code",
   "execution_count": 44,
   "id": "549d4595-ac20-4725-9a22-449339fa891a",
   "metadata": {
    "execution": {
     "iopub.execute_input": "2025-10-06T13:12:37.221986Z",
     "iopub.status.busy": "2025-10-06T13:12:37.221229Z",
     "iopub.status.idle": "2025-10-06T13:12:37.321381Z",
     "shell.execute_reply": "2025-10-06T13:12:37.321084Z",
     "shell.execute_reply.started": "2025-10-06T13:12:37.221947Z"
    }
   },
   "outputs": [
    {
     "data": {
      "image/png": "[encoded data removed]",
      "text/plain": [
       "<Figure size 640x480 with 1 Axes>"
      ]
     },
     "metadata": {},
     "output_type": "display_data"
    }
   ],
   "source": [
    "plt.bar(lego_2010_theme_top_5.index, lego_2010_theme_top_5.values)\n",
    "plt.title(\"Top 5 LEGO Popular Themes In 2010s\")\n",
    "plt.xlabel(\"Theme\")\n",
    "plt.ylabel(\"Number of Set\")\n",
    "plt.savefig(\"Top 5 LEGO Popular Theme in 2010.png\")\n",
    "plt.xticks(rotation=45)\n",
    "plt.show()"
   ]
  },
  {
   "cell_type": "markdown",
   "id": "863038c3-4a18-450f-8ac0-f4ce72925c73",
   "metadata": {},
   "source": [
    "## LEGO Popular Theme in 2020s"
   ]
  },
  {
   "cell_type": "code",
   "execution_count": 31,
   "id": "45726b57-ca30-4da1-b34d-0e225b98a77e",
   "metadata": {
    "execution": {
     "iopub.execute_input": "2025-10-06T12:38:38.452353Z",
     "iopub.status.busy": "2025-10-06T12:38:38.452248Z",
     "iopub.status.idle": "2025-10-06T12:38:38.455657Z",
     "shell.execute_reply": "2025-10-06T12:38:38.455417Z",
     "shell.execute_reply.started": "2025-10-06T12:38:38.452344Z"
    }
   },
   "outputs": [
    {
     "data": {
      "text/plain": [
       "theme\n",
       "Gear                       585\n",
       "City                       181\n",
       "Collectable Minifigures    152\n",
       "Friends                    146\n",
       "Ninjago                    141\n",
       "Name: set_id, dtype: int64"
      ]
     },
     "execution_count": 31,
     "metadata": {},
     "output_type": "execute_result"
    }
   ],
   "source": [
    "lego_2020_theme = lego_2020.groupby('theme')['set_id'].count()\n",
    "lego_2020_theme = lego_2020_theme.sort_values(ascending=False)\n",
    "lego_2020_theme_top_5 = lego_2020_theme.head(5)\n",
    "lego_2020_theme_top_5"
   ]
  },
  {
   "cell_type": "code",
   "execution_count": 45,
   "id": "ecaab5ed-b84a-4810-a9d1-a28e1bedd75b",
   "metadata": {
    "execution": {
     "iopub.execute_input": "2025-10-06T13:12:55.487469Z",
     "iopub.status.busy": "2025-10-06T13:12:55.486816Z",
     "iopub.status.idle": "2025-10-06T13:12:55.580921Z",
     "shell.execute_reply": "2025-10-06T13:12:55.580648Z",
     "shell.execute_reply.started": "2025-10-06T13:12:55.487390Z"
    }
   },
   "outputs": [
    {
     "data": {
      "image/png": "[encoded data removed]",
      "text/plain": [
       "<Figure size 640x480 with 1 Axes>"
      ]
     },
     "metadata": {},
     "output_type": "display_data"
    }
   ],
   "source": [
    "plt.bar(lego_2020_theme_top_5.index, lego_2020_theme_top_5.values)\n",
    "plt.title(\"Top 5 LEGO Popular Themes In 2020s\")\n",
    "plt.xlabel(\"Theme\")\n",
    "plt.ylabel(\"Number of Set\")\n",
    "plt.savefig(\"Top 5 LEGO Popular Theme in 2020.png\")\n",
    "plt.xticks(rotation=45)\n",
    "plt.show()"
   ]
  },
  {
   "cell_type": "markdown",
   "id": "7b40076e-33b0-441b-b605-73d94d5b9d8a",
   "metadata": {},
   "source": [
    "# Are LEGO Minifigures closely tied to 'Licensed Sets' ?"
   ]
  },
  {
   "cell_type": "code",
   "execution_count": 33,
   "id": "4e8e542f-39a9-416d-afe6-ce236186900f",
   "metadata": {
    "execution": {
     "iopub.execute_input": "2025-10-06T12:38:38.489295Z",
     "iopub.status.busy": "2025-10-06T12:38:38.489208Z",
     "iopub.status.idle": "2025-10-06T12:38:38.500171Z",
     "shell.execute_reply": "2025-10-06T12:38:38.499568Z",
     "shell.execute_reply.started": "2025-10-06T12:38:38.489286Z"
    }
   },
   "outputs": [
    {
     "data": {
      "text/html": [
       "<div>\n",
       "<style scoped>\n",
       "    .dataframe tbody tr th:only-of-type {\n",
       "        vertical-align: middle;\n",
       "    }\n",
       "\n",
       "    .dataframe tbody tr th {\n",
       "        vertical-align: top;\n",
       "    }\n",
       "\n",
       "    .dataframe thead th {\n",
       "        text-align: right;\n",
       "    }\n",
       "</style>\n",
       "<table border=\"1\" class=\"dataframe\">\n",
       "  <thead>\n",
       "    <tr style=\"text-align: right;\">\n",
       "      <th></th>\n",
       "      <th>set_id</th>\n",
       "      <th>name</th>\n",
       "      <th>year</th>\n",
       "      <th>theme</th>\n",
       "      <th>subtheme</th>\n",
       "      <th>themeGroup</th>\n",
       "      <th>category</th>\n",
       "      <th>pieces</th>\n",
       "      <th>minifigs</th>\n",
       "      <th>agerange_min</th>\n",
       "      <th>US_retailPrice</th>\n",
       "    </tr>\n",
       "  </thead>\n",
       "  <tbody>\n",
       "    <tr>\n",
       "      <th>0</th>\n",
       "      <td>1-8</td>\n",
       "      <td>Small house set</td>\n",
       "      <td>1970</td>\n",
       "      <td>Minitalia</td>\n",
       "      <td>Miscellaneous</td>\n",
       "      <td>Vintage</td>\n",
       "      <td>Normal</td>\n",
       "      <td>67.0</td>\n",
       "      <td>2.0</td>\n",
       "      <td>6.0</td>\n",
       "      <td>19.99</td>\n",
       "    </tr>\n",
       "    <tr>\n",
       "      <th>1</th>\n",
       "      <td>2-8</td>\n",
       "      <td>Medium house set</td>\n",
       "      <td>1970</td>\n",
       "      <td>Minitalia</td>\n",
       "      <td>Miscellaneous</td>\n",
       "      <td>Vintage</td>\n",
       "      <td>Normal</td>\n",
       "      <td>109.0</td>\n",
       "      <td>2.0</td>\n",
       "      <td>6.0</td>\n",
       "      <td>19.99</td>\n",
       "    </tr>\n",
       "    <tr>\n",
       "      <th>2</th>\n",
       "      <td>3-6</td>\n",
       "      <td>Medium house set</td>\n",
       "      <td>1970</td>\n",
       "      <td>Minitalia</td>\n",
       "      <td>Miscellaneous</td>\n",
       "      <td>Vintage</td>\n",
       "      <td>Normal</td>\n",
       "      <td>158.0</td>\n",
       "      <td>2.0</td>\n",
       "      <td>6.0</td>\n",
       "      <td>19.99</td>\n",
       "    </tr>\n",
       "    <tr>\n",
       "      <th>3</th>\n",
       "      <td>4-4</td>\n",
       "      <td>Large house set</td>\n",
       "      <td>1970</td>\n",
       "      <td>Minitalia</td>\n",
       "      <td>Miscellaneous</td>\n",
       "      <td>Vintage</td>\n",
       "      <td>Normal</td>\n",
       "      <td>233.0</td>\n",
       "      <td>2.0</td>\n",
       "      <td>6.0</td>\n",
       "      <td>19.99</td>\n",
       "    </tr>\n",
       "    <tr>\n",
       "      <th>4</th>\n",
       "      <td>4-6</td>\n",
       "      <td>Mini House and Vehicles</td>\n",
       "      <td>1970</td>\n",
       "      <td>Samsonite</td>\n",
       "      <td>Model Maker</td>\n",
       "      <td>Vintage</td>\n",
       "      <td>Normal</td>\n",
       "      <td>70.0</td>\n",
       "      <td>2.0</td>\n",
       "      <td>6.0</td>\n",
       "      <td>19.99</td>\n",
       "    </tr>\n",
       "  </tbody>\n",
       "</table>\n",
       "</div>"
      ],
      "text/plain": [
       "  set_id                     name  year      theme       subtheme themeGroup  \\\n",
       "0    1-8          Small house set  1970  Minitalia  Miscellaneous    Vintage   \n",
       "1    2-8         Medium house set  1970  Minitalia  Miscellaneous    Vintage   \n",
       "2    3-6         Medium house set  1970  Minitalia  Miscellaneous    Vintage   \n",
       "3    4-4          Large house set  1970  Minitalia  Miscellaneous    Vintage   \n",
       "4    4-6  Mini House and Vehicles  1970  Samsonite    Model Maker    Vintage   \n",
       "\n",
       "  category  pieces  minifigs  agerange_min  US_retailPrice  \n",
       "0   Normal    67.0       2.0           6.0           19.99  \n",
       "1   Normal   109.0       2.0           6.0           19.99  \n",
       "2   Normal   158.0       2.0           6.0           19.99  \n",
       "3   Normal   233.0       2.0           6.0           19.99  \n",
       "4   Normal    70.0       2.0           6.0           19.99  "
      ]
     },
     "execution_count": 33,
     "metadata": {},
     "output_type": "execute_result"
    }
   ],
   "source": [
    "# Filter Data Only Lego Minifigs (<= 80 minifigs)\n",
    "lego_minifigs = lego[lego['minifigs'] <= 80]\n",
    "lego_minifigs.head()"
   ]
  },
  {
   "cell_type": "code",
   "execution_count": 34,
   "id": "cea9cd0b-8d5b-4260-862f-a00c13284221",
   "metadata": {
    "execution": {
     "iopub.execute_input": "2025-10-06T12:38:38.501676Z",
     "iopub.status.busy": "2025-10-06T12:38:38.501288Z",
     "iopub.status.idle": "2025-10-06T12:38:38.509183Z",
     "shell.execute_reply": "2025-10-06T12:38:38.508946Z",
     "shell.execute_reply.started": "2025-10-06T12:38:38.501642Z"
    }
   },
   "outputs": [
    {
     "data": {
      "text/plain": [
       "theme\n",
       "Gear                       5824.0\n",
       "Star Wars                  2688.0\n",
       "Duplo                      2536.0\n",
       "City                       2161.0\n",
       "Collectable Minifigures    1485.0\n",
       "                            ...  \n",
       "LEGO Universe                 3.0\n",
       "Boost                         2.0\n",
       "Collectable minifigures       2.0\n",
       "System                        2.0\n",
       "Promotional                   2.0\n",
       "Name: minifigs, Length: 154, dtype: float64"
      ]
     },
     "execution_count": 34,
     "metadata": {},
     "output_type": "execute_result"
    }
   ],
   "source": [
    "lego_minifigs.groupby('theme')['minifigs'].sum().sort_values(ascending=False)"
   ]
  },
  {
   "cell_type": "code",
   "execution_count": null,
   "id": "cace580c-52c2-436d-ae41-e62476cc8303",
   "metadata": {},
   "outputs": [],
   "source": []
  }
 ],
 "metadata": {
  "kernelspec": {
   "display_name": "Python 3 (ipykernel)",
   "language": "python",
   "name": "python3"
  },
  "language_info": {
   "codemirror_mode": {
    "name": "ipython",
    "version": 3
   },
   "file_extension": ".py",
   "mimetype": "text/x-python",
   "name": "python",
   "nbconvert_exporter": "python",
   "pygments_lexer": "ipython3",
   "version": "3.13.1"
  }
 },
 "nbformat": 4,
 "nbformat_minor": 5
}
